{
 "cells": [
  {
   "cell_type": "markdown",
   "id": "526480f6-31bc-4a24-a705-202abb6f1beb",
   "metadata": {},
   "source": [
    "# Decorators"
   ]
  },
  {
   "cell_type": "code",
   "execution_count": 1,
   "id": "7a95e920-1ef9-4b35-bc22-d8c0b4c1691f",
   "metadata": {},
   "outputs": [
    {
     "name": "stdout",
     "output_type": "stream",
     "text": [
      "618\n"
     ]
    }
   ],
   "source": [
    "def dec(f):\n",
    "    ''' printing the output of the function '''\n",
    "    def wrapper(t):\n",
    "        print(f(t))\n",
    "    return wrapper\n",
    "\n",
    "\n",
    "@dec \n",
    "def convert(timestr)-> int:\n",
    "    ''' return the seconds of a 10:30 like time '''\n",
    "    h,m = timestr.split(\":\")\n",
    "    n = int(h)*60 + int(m)\n",
    "    return n\n",
    "\n",
    "xtm = convert(\"10:18\")"
   ]
  },
  {
   "cell_type": "code",
   "execution_count": null,
   "id": "1756ec5a-9b53-478b-99a1-8ca763038c96",
   "metadata": {},
   "outputs": [],
   "source": []
  }
 ],
 "metadata": {
  "kernelspec": {
   "display_name": "Python 3 (ipykernel)",
   "language": "python",
   "name": "python3"
  },
  "language_info": {
   "codemirror_mode": {
    "name": "ipython",
    "version": 3
   },
   "file_extension": ".py",
   "mimetype": "text/x-python",
   "name": "python",
   "nbconvert_exporter": "python",
   "pygments_lexer": "ipython3",
   "version": "3.11.5"
  }
 },
 "nbformat": 4,
 "nbformat_minor": 5
}
