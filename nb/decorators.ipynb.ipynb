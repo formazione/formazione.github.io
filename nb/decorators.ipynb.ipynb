{
 "cells": [
  {
   "cell_type": "markdown",
   "id": "526480f6-31bc-4a24-a705-202abb6f1beb",
   "metadata": {},
   "source": [
    "# Decorators"
   ]
  },
  {
   "cell_type": "code",
   "execution_count": 1,
   "id": "7a95e920-1ef9-4b35-bc22-d8c0b4c1691f",
   "metadata": {},
   "outputs": [
    {
     "name": "stdout",
     "output_type": "stream",
     "text": [
      "618\n"
     ]
    }
   ],
   "source": [
    "x = \"10:18\"\n",
    "\n",
    "def dec(f):\n",
    "    def wrapper(t):\n",
    "        print(f(t))\n",
    "    return wrapper\n",
    "\n",
    "\n",
    "@dec \n",
    "def convert(timestr):\n",
    "    h,m = timestr.split(\":\")\n",
    "    n = int(h)*60 + int(m)\n",
    "    return n\n",
    "\n",
    "xtm = convert(\"10:18\")"
   ]
  }
 ],
 "metadata": {
  "kernelspec": {
   "display_name": "Python 3 (ipykernel)",
   "language": "python",
   "name": "python3"
  },
  "language_info": {
   "codemirror_mode": {
    "name": "ipython",
    "version": 3
   },
   "file_extension": ".py",
   "mimetype": "text/x-python",
   "name": "python",
   "nbconvert_exporter": "python",
   "pygments_lexer": "ipython3",
   "version": "3.11.5"
  }
 },
 "nbformat": 4,
 "nbformat_minor": 5
}
